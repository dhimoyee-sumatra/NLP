{
 "cells": [
  {
   "cell_type": "code",
   "execution_count": 1,
   "metadata": {
    "collapsed": true
   },
   "outputs": [],
   "source": [
    "# You should not modify code in this cell\n",
    "import sys\n",
    "import nltk\n",
    "from nltk.corpus import treebank\n",
    "\n",
    "# Get numsents POS-tagged sentences from the treebank corpus\n",
    "def get_pos_data(numsents):\n",
    "\n",
    "    # Extract required number of sentences\n",
    "    sentences = treebank.tagged_sents()[:numsents]\n",
    "\n",
    "    # Initialize\n",
    "    sequences = []\n",
    "    symbols = set()\n",
    "    tag_set = set()\n",
    "    \n",
    "    # Go over each extracted sentence ...\n",
    "    for sentence in sentences:\n",
    "        for i in range(len(sentence)):\n",
    "            word, tag = sentence[i]\n",
    "            word = word.lower()  # normalize case\n",
    "            symbols.add(word)    # add this word\n",
    "            tag_set.add(tag)\n",
    "            sentence[i] = (word, tag)  # store tagged token\n",
    "        sequences.append(sentence)\n",
    "\n",
    "    # Return sequences, the list of tags and all the words that we saw\n",
    "    return sequences, list(tag_set), list(symbols)\n",
    "\n",
    "# Train the transition and emission probabilities\n",
    "def train():\n",
    "    print('Training HMM...')\n",
    "\n",
    "    # Use the first 5000 sentences from treebank corpus\n",
    "    labelled_sequences, states, symbols = get_pos_data(5000)\n",
    "    \n",
    "    # Define the estimator to be used for probability computation\n",
    "    estimator = lambda fd, bins: nltk.LidstoneProbDist(fd, 0.1, bins)\n",
    "    \n",
    "    # count occurences of starting states, transitions out of each state\n",
    "    # and output symbols observed in each state\n",
    "    freq_starts = nltk.FreqDist()\n",
    "    freq_transitions = nltk.ConditionalFreqDist()\n",
    "    freq_emissions = nltk.ConditionalFreqDist()\n",
    "    for sequence in labelled_sequences:\n",
    "        lasts = None\n",
    "        for token in sequence:\n",
    "            state = token[1]\n",
    "            symbol = token[0]\n",
    "            if lasts == None:\n",
    "                freq_starts[state] += 1\n",
    "            else:\n",
    "                freq_transitions[lasts][state] += 1\n",
    "            freq_emissions[state][symbol] += 1\n",
    "            lasts = state\n",
    "\n",
    "            # update the state and symbol lists\n",
    "            if state not in states:\n",
    "                states.append(state)\n",
    "            if symbol not in symbols:\n",
    "                symbols.append(symbol)\n",
    "\n",
    "    # create probability distributions (with smoothing)\n",
    "    N = len(states)\n",
    "    starts = estimator(freq_starts, N)\n",
    "    transitions = nltk.ConditionalProbDist(freq_transitions, estimator, N)\n",
    "    emissions = nltk.ConditionalProbDist(freq_emissions, estimator, len(symbols))\n",
    "                               \n",
    "    # Return the transition and emissions probabilities along with \n",
    "    # the list of all the states and output symbols\n",
    "    return starts, transitions, emissions, states, symbols"
   ]
  },
  {
   "cell_type": "code",
   "execution_count": 2,
   "metadata": {
    "collapsed": false
   },
   "outputs": [
    {
     "name": "stdout",
     "output_type": "stream",
     "text": [
      "Training HMM...\n"
     ]
    }
   ],
   "source": [
    "from numpy import zeros, array, float32, int16, argmax\n",
    "from math import log, exp\n",
    "\n",
    "# call the train function\n",
    "priors, transitions, emissions, states, symbols = train()\n",
    "# suggestion: inspect these five variables to get a sense of the data and data structures\n",
    "\n"
   ]
  },
  {
   "cell_type": "code",
   "execution_count": 3,
   "metadata": {
    "collapsed": false
   },
   "outputs": [
    {
     "data": {
      "text/plain": [
       "['NNP',\n",
       " '-RRB-',\n",
       " 'RBR',\n",
       " 'DT',\n",
       " 'NNS',\n",
       " 'RP',\n",
       " 'SYM',\n",
       " 'WRB',\n",
       " 'POS',\n",
       " '$',\n",
       " 'LS',\n",
       " 'VBP',\n",
       " 'VBZ',\n",
       " \"''\",\n",
       " 'WP',\n",
       " 'PRP',\n",
       " 'WDT',\n",
       " 'EX',\n",
       " 'CC',\n",
       " '.',\n",
       " 'PDT',\n",
       " '-NONE-',\n",
       " 'RB',\n",
       " 'JJS',\n",
       " 'VBN',\n",
       " 'JJ',\n",
       " 'MD',\n",
       " 'VBD',\n",
       " '#',\n",
       " 'VBG',\n",
       " 'JJR',\n",
       " 'UH',\n",
       " 'RBS',\n",
       " ',',\n",
       " ':',\n",
       " 'TO',\n",
       " 'WP$',\n",
       " 'CD',\n",
       " 'NN',\n",
       " 'PRP$',\n",
       " 'FW',\n",
       " 'VB',\n",
       " 'IN',\n",
       " '``',\n",
       " '-LRB-',\n",
       " 'NNPS']"
      ]
     },
     "execution_count": 3,
     "metadata": {},
     "output_type": "execute_result"
    }
   ],
   "source": [
    "states"
   ]
  },
  {
   "cell_type": "code",
   "execution_count": 19,
   "metadata": {
    "collapsed": false
   },
   "outputs": [
    {
     "name": "stdout",
     "output_type": "stream",
     "text": [
      "-2.339746459930586\n",
      "-15.25805069363052\n",
      "-10.303854383243644\n",
      "-2.1141892117626604\n",
      "-4.419634617833182\n",
      "-15.25805069363052\n",
      "-15.25805069363052\n",
      "-7.286507139679747\n",
      "-15.25805069363052\n",
      "-9.585625351659024\n",
      "-9.108303574125836\n",
      "-15.25805069363052\n",
      "-8.750256053431823\n",
      "-11.798619074993221\n",
      "-8.118499341231725\n",
      "-3.998895924763679\n",
      "-10.86573327085176\n",
      "-7.840198178744622\n",
      "-4.284353327325167\n",
      "-15.25805069363052\n",
      "-10.303854383243644\n",
      "-5.576812281852715\n",
      "-4.4840873251969615\n",
      "-9.327313356067632\n",
      "-9.108303574125836\n",
      "-4.775242736903851\n",
      "-11.798619074993221\n",
      "-11.798619074993221\n",
      "-15.25805069363052\n",
      "-7.840198178744622\n",
      "-8.339187456355925\n",
      "-11.798619074993221\n",
      "-10.86573327085176\n",
      "-15.25805069363052\n",
      "-8.463634827280414\n",
      "-9.585625351659024\n",
      "-15.25805069363052\n",
      "-6.887363286823302\n",
      "-4.492350205979418\n",
      "-7.073175350722234\n",
      "-15.25805069363052\n",
      "-10.303854383243644\n",
      "-2.955697367199316\n",
      "-3.726181918452965\n",
      "-9.108303574125836\n",
      "-8.599839210878724\n"
     ]
    }
   ],
   "source": [
    "for s in states:\n",
    "    print(priors.logprob(s))"
   ]
  },
  {
   "cell_type": "code",
   "execution_count": 25,
   "metadata": {
    "collapsed": false
   },
   "outputs": [],
   "source": [
    "x= 0\n",
    "if x==1:\n",
    "    print('ass')"
   ]
  },
  {
   "cell_type": "code",
   "execution_count": 38,
   "metadata": {
    "collapsed": false
   },
   "outputs": [],
   "source": [
    "# write your viterbi code here\n",
    "import re\n",
    "import numpy as np\n",
    "def decode(sentences):\n",
    "    wordlist= re.findall(r\"[\\w']+|[.,!?;]\", sentences)\n",
    "    matrix= [[0 for x in range(len(sentences))] for y in range(len(states))]\n",
    "    matrix=np.array(matrix, dtype=int)\n",
    "    backtracker= [[0 for x in range(len(sentences))] for y in range(len(states))]\n",
    "    backtracker=np.array(backtracker, dtype=int)\n",
    "    i=0\n",
    "    for s in states:\n",
    "        matrix[i, 0]= priors.logprob(s) + emissions[s].logprob(wordlist[0])\n",
    "        backtracker= i\n",
    "        i+=1\n",
    "    t=1\n",
    "    for w in wordlist[1:]:\n",
    "        c=0\n",
    "        for s1 in states:\n",
    "            j=0\n",
    "            for s0 in states: \n",
    "                #a= matrix.max(axis=0)[t-1]\n",
    "                val= matrix[j, 0] + transitions[s0].logprob(s1) + emissions[s1].logprob(w)\n",
    "                if matrix[c, t] == 0:\n",
    "                    matrix[c, t]= val\n",
    "                if val > matrix[c, t]:\n",
    "                    matrix[c, t]= val\n",
    "                    backtracker[c, t]= j\n",
    "                j+=1\n",
    "            c+=1\n",
    "        t+=1\n",
    "    backL= []\n",
    "    w= len(wordlist)\n",
    "    b= len(states)\n",
    "    \n",
    "    maxT= -10000\n",
    "    val=-10000\n",
    "    for r in range(b):\n",
    "        if maxT< matrix[r, w-1]:\n",
    "            maxT= matrix[r, w-1]\n",
    "            #print(maxT)\n",
    "            val= r\n",
    "    \n",
    "    #a= matrix.max(axis=0)[wordlist[w-1]]\n",
    "    #print(val)\n",
    "    a= val\n",
    "    for d in range((len(wordlist)-1), 0, -1):\n",
    "        backL.insert(0, states[a])\n",
    "        a= matrix[a, d]\n",
    "    print(matrix)\n",
    "    return backL\n",
    "    \n",
    "    \n"
   ]
  },
  {
   "cell_type": "code",
   "execution_count": 39,
   "metadata": {
    "collapsed": false
   },
   "outputs": [
    {
     "ename": "TypeError",
     "evalue": "'int' object does not support item assignment",
     "output_type": "error",
     "traceback": [
      "\u001b[0;31m---------------------------------------------------------------------------\u001b[0m",
      "\u001b[0;31mTypeError\u001b[0m                                 Traceback (most recent call last)",
      "\u001b[0;32m<ipython-input-39-b285988ab7d5>\u001b[0m in \u001b[0;36m<module>\u001b[0;34m()\u001b[0m\n\u001b[0;32m----> 1\u001b[0;31m \u001b[0mlist\u001b[0m\u001b[0;34m=\u001b[0m \u001b[0mdecode\u001b[0m\u001b[0;34m(\u001b[0m\u001b[0;34m'if it were a hollywood movie , you never believe it .'\u001b[0m\u001b[0;34m)\u001b[0m\u001b[0;34m\u001b[0m\u001b[0m\n\u001b[0m\u001b[1;32m      2\u001b[0m \u001b[0mlist\u001b[0m\u001b[0;34m\u001b[0m\u001b[0m\n",
      "\u001b[0;32m<ipython-input-38-2611b8a107e2>\u001b[0m in \u001b[0;36mdecode\u001b[0;34m(sentences)\u001b[0m\n\u001b[1;32m     25\u001b[0m                 \u001b[0;32mif\u001b[0m \u001b[0mval\u001b[0m \u001b[0;34m>\u001b[0m \u001b[0mmatrix\u001b[0m\u001b[0;34m[\u001b[0m\u001b[0mc\u001b[0m\u001b[0;34m,\u001b[0m \u001b[0mt\u001b[0m\u001b[0;34m]\u001b[0m\u001b[0;34m:\u001b[0m\u001b[0;34m\u001b[0m\u001b[0m\n\u001b[1;32m     26\u001b[0m                     \u001b[0mmatrix\u001b[0m\u001b[0;34m[\u001b[0m\u001b[0mc\u001b[0m\u001b[0;34m,\u001b[0m \u001b[0mt\u001b[0m\u001b[0;34m]\u001b[0m\u001b[0;34m=\u001b[0m \u001b[0mval\u001b[0m\u001b[0;34m\u001b[0m\u001b[0m\n\u001b[0;32m---> 27\u001b[0;31m                     \u001b[0mbacktracker\u001b[0m\u001b[0;34m[\u001b[0m\u001b[0mc\u001b[0m\u001b[0;34m,\u001b[0m \u001b[0mt\u001b[0m\u001b[0;34m]\u001b[0m\u001b[0;34m=\u001b[0m \u001b[0mj\u001b[0m\u001b[0;34m\u001b[0m\u001b[0m\n\u001b[0m\u001b[1;32m     28\u001b[0m                 \u001b[0mj\u001b[0m\u001b[0;34m+=\u001b[0m\u001b[0;36m1\u001b[0m\u001b[0;34m\u001b[0m\u001b[0m\n\u001b[1;32m     29\u001b[0m             \u001b[0mc\u001b[0m\u001b[0;34m+=\u001b[0m\u001b[0;36m1\u001b[0m\u001b[0;34m\u001b[0m\u001b[0m\n",
      "\u001b[0;31mTypeError\u001b[0m: 'int' object does not support item assignment"
     ]
    }
   ],
   "source": [
    "list= decode('if it were a hollywood movie , you never believe it .')\n",
    "list"
   ]
  },
  {
   "cell_type": "code",
   "execution_count": 40,
   "metadata": {
    "collapsed": false
   },
   "outputs": [
    {
     "ename": "NameError",
     "evalue": "name 'tagViterbi' is not defined",
     "output_type": "error",
     "traceback": [
      "\u001b[0;31m---------------------------------------------------------------------------\u001b[0m",
      "\u001b[0;31mNameError\u001b[0m                                 Traceback (most recent call last)",
      "\u001b[0;32m<ipython-input-40-67a865ceedae>\u001b[0m in \u001b[0;36m<module>\u001b[0;34m()\u001b[0m\n\u001b[1;32m      1\u001b[0m \u001b[0;31m# open test-sentences\u001b[0m\u001b[0;34m\u001b[0m\u001b[0;34m\u001b[0m\u001b[0m\n\u001b[1;32m      2\u001b[0m \u001b[0mtestSentenceFile\u001b[0m \u001b[0;34m=\u001b[0m \u001b[0mopen\u001b[0m\u001b[0;34m(\u001b[0m\u001b[0;34m'test-sentences.txt'\u001b[0m\u001b[0;34m)\u001b[0m\u001b[0;34m\u001b[0m\u001b[0m\n\u001b[0;32m----> 3\u001b[0;31m \u001b[0mtagViterbi\u001b[0m\u001b[0;34m(\u001b[0m\u001b[0mtestSentenceFile\u001b[0m\u001b[0;34m)\u001b[0m \u001b[0;31m# you need to define a tagViterbi function\u001b[0m\u001b[0;34m\u001b[0m\u001b[0m\n\u001b[0m",
      "\u001b[0;31mNameError\u001b[0m: name 'tagViterbi' is not defined"
     ]
    }
   ],
   "source": [
    "# open test-sentences\n",
    "testSentenceFile = open('test-sentences.txt')\n",
    "tagViterbi(testSentenceFile) # you need to define a tagViterbi function"
   ]
  },
  {
   "cell_type": "code",
   "execution_count": null,
   "metadata": {
    "collapsed": true
   },
   "outputs": [],
   "source": [
    "# eventually, open the hw-sentences\n",
    "hwSentenceFile = open('hw-sentences.txt')\n",
    "tagViterbi(hwSentenceFile) "
   ]
  }
 ],
 "metadata": {
  "kernelspec": {
   "display_name": "Python 3",
   "language": "python",
   "name": "python3"
  },
  "language_info": {
   "codemirror_mode": {
    "name": "ipython",
    "version": 3
   },
   "file_extension": ".py",
   "mimetype": "text/x-python",
   "name": "python",
   "nbconvert_exporter": "python",
   "pygments_lexer": "ipython3",
   "version": "3.6.0"
  }
 },
 "nbformat": 4,
 "nbformat_minor": 2
}
